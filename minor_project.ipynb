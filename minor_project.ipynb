{
  "nbformat": 4,
  "nbformat_minor": 0,
  "metadata": {
    "colab": {
      "provenance": [],
      "gpuType": "T4",
      "authorship_tag": "ABX9TyMPrE8dxuAje2xW3ifjlNu2",
      "include_colab_link": true
    },
    "kernelspec": {
      "name": "python3",
      "display_name": "Python 3"
    },
    "language_info": {
      "name": "python"
    },
    "accelerator": "GPU"
  },
  "cells": [
    {
      "cell_type": "markdown",
      "metadata": {
        "id": "view-in-github",
        "colab_type": "text"
      },
      "source": [
        "<a href=\"https://colab.research.google.com/github/Codeptor/DNA-Sequencing/blob/main/minor_project.ipynb\" target=\"_parent\"><img src=\"https://colab.research.google.com/assets/colab-badge.svg\" alt=\"Open In Colab\"/></a>"
      ]
    },
    {
      "cell_type": "markdown",
      "source": [
        "# DNA Sequence Error Detection using Pysam: A Comprehensive Guide\n"
      ],
      "metadata": {
        "id": "9VsDnSUmJpOk"
      }
    },
    {
      "cell_type": "markdown",
      "source": [
        "## 1. Dataset Selection and Preparation\n",
        "For this guide, we'll use a smaller dataset from the Sequence Read Archive (SRA) that's more manageable for research projects with limited computational resources."
      ],
      "metadata": {
        "id": "o6q3KKw4JwIK"
      }
    },
    {
      "cell_type": "markdown",
      "source": [
        "### 1.1 Download a Small Dataset\n",
        "We'll use a dataset from the E. coli genome, which is much smaller in size.\n",
        "\n"
      ],
      "metadata": {
        "id": "1hg2mhTrIBbh"
      }
    },
    {
      "cell_type": "markdown",
      "source": [
        "1. Install the SRA Toolkit:\n"
      ],
      "metadata": {
        "id": "mJ42wwHNIdQE"
      }
    },
    {
      "cell_type": "code",
      "source": [
        "!wget https://ftp-trace.ncbi.nlm.nih.gov/sra/sdk/current/sratoolkit.current-ubuntu64.tar.gz\n",
        "!tar -xzf sratoolkit.current-ubuntu64.tar.gz\n",
        "!export PATH=$PATH:$PWD/sratoolkit.3.0.0-ubuntu64/bin\n",
        "!sudo apt-get install sra-toolkit"
      ],
      "metadata": {
        "colab": {
          "base_uri": "https://localhost:8080/"
        },
        "id": "JhU18Q8hE-dh",
        "outputId": "c76765c6-b3f8-4bda-9177-6d50f6a96ed2"
      },
      "execution_count": 12,
      "outputs": [
        {
          "output_type": "stream",
          "name": "stdout",
          "text": [
            "--2024-08-29 09:45:35--  https://ftp-trace.ncbi.nlm.nih.gov/sra/sdk/current/sratoolkit.current-ubuntu64.tar.gz\n",
            "Resolving ftp-trace.ncbi.nlm.nih.gov (ftp-trace.ncbi.nlm.nih.gov)... 130.14.250.13, 130.14.250.10, 2607:f220:41e:250::7, ...\n",
            "Connecting to ftp-trace.ncbi.nlm.nih.gov (ftp-trace.ncbi.nlm.nih.gov)|130.14.250.13|:443... connected.\n",
            "HTTP request sent, awaiting response... 200 OK\n",
            "Length: 93532905 (89M) [application/x-gzip]\n",
            "Saving to: ‘sratoolkit.current-ubuntu64.tar.gz.2’\n",
            "\n",
            "sratoolkit.current- 100%[===================>]  89.20M  32.0MB/s    in 2.8s    \n",
            "\n",
            "2024-08-29 09:45:38 (32.0 MB/s) - ‘sratoolkit.current-ubuntu64.tar.gz.2’ saved [93532905/93532905]\n",
            "\n",
            "Reading package lists... Done\n",
            "Building dependency tree... Done\n",
            "Reading state information... Done\n",
            "The following additional packages will be installed:\n",
            "  blends-common libkdf5-2 libncbi-vdb2 libncbi-wvdb2 med-config menu\n",
            "Suggested packages:\n",
            "  blends-doc menu-l10n gksu | kde-runtime | ktsuss\n",
            "The following NEW packages will be installed:\n",
            "  blends-common libkdf5-2 libncbi-vdb2 libncbi-wvdb2 med-config menu\n",
            "  sra-toolkit\n",
            "0 upgraded, 7 newly installed, 0 to remove and 49 not upgraded.\n",
            "Need to get 8,290 kB of archives.\n",
            "After this operation, 23.0 MB of additional disk space will be used.\n",
            "Get:1 http://archive.ubuntu.com/ubuntu jammy/universe amd64 menu amd64 2.1.47ubuntu4 [354 kB]\n",
            "Get:2 http://archive.ubuntu.com/ubuntu jammy/universe amd64 blends-common all 0.7.4ubuntu1 [15.9 kB]\n",
            "Get:3 http://archive.ubuntu.com/ubuntu jammy/universe amd64 libkdf5-2 amd64 2.11.2+dfsg-4build2 [14.7 kB]\n",
            "Get:4 http://archive.ubuntu.com/ubuntu jammy/universe amd64 libncbi-vdb2 amd64 2.11.2+dfsg-4build2 [1,364 kB]\n",
            "Get:5 http://archive.ubuntu.com/ubuntu jammy/universe amd64 libncbi-wvdb2 amd64 2.11.2+dfsg-4build2 [1,252 kB]\n",
            "Get:6 http://archive.ubuntu.com/ubuntu jammy/universe amd64 sra-toolkit amd64 2.11.3+dfsg-1ubuntu1 [5,277 kB]\n",
            "Get:7 http://archive.ubuntu.com/ubuntu jammy/universe amd64 med-config all 3.7.1 [11.6 kB]\n",
            "Fetched 8,290 kB in 1s (8,153 kB/s)\n",
            "debconf: unable to initialize frontend: Dialog\n",
            "debconf: (No usable dialog-like program is installed, so the dialog based frontend cannot be used. at /usr/share/perl5/Debconf/FrontEnd/Dialog.pm line 78, <> line 7.)\n",
            "debconf: falling back to frontend: Readline\n",
            "debconf: unable to initialize frontend: Readline\n",
            "debconf: (This frontend requires a controlling tty.)\n",
            "debconf: falling back to frontend: Teletype\n",
            "dpkg-preconfigure: unable to re-open stdin: \n",
            "Selecting previously unselected package menu.\n",
            "(Reading database ... 123711 files and directories currently installed.)\n",
            "Preparing to unpack .../0-menu_2.1.47ubuntu4_amd64.deb ...\n",
            "Unpacking menu (2.1.47ubuntu4) ...\n",
            "Selecting previously unselected package blends-common.\n",
            "Preparing to unpack .../1-blends-common_0.7.4ubuntu1_all.deb ...\n",
            "Unpacking blends-common (0.7.4ubuntu1) ...\n",
            "Selecting previously unselected package libkdf5-2.\n",
            "Preparing to unpack .../2-libkdf5-2_2.11.2+dfsg-4build2_amd64.deb ...\n",
            "Unpacking libkdf5-2 (2.11.2+dfsg-4build2) ...\n",
            "Selecting previously unselected package libncbi-vdb2.\n",
            "Preparing to unpack .../3-libncbi-vdb2_2.11.2+dfsg-4build2_amd64.deb ...\n",
            "Unpacking libncbi-vdb2 (2.11.2+dfsg-4build2) ...\n",
            "Selecting previously unselected package libncbi-wvdb2.\n",
            "Preparing to unpack .../4-libncbi-wvdb2_2.11.2+dfsg-4build2_amd64.deb ...\n",
            "Unpacking libncbi-wvdb2 (2.11.2+dfsg-4build2) ...\n",
            "Selecting previously unselected package sra-toolkit.\n",
            "Preparing to unpack .../5-sra-toolkit_2.11.3+dfsg-1ubuntu1_amd64.deb ...\n",
            "Unpacking sra-toolkit (2.11.3+dfsg-1ubuntu1) ...\n",
            "Selecting previously unselected package med-config.\n",
            "Preparing to unpack .../6-med-config_3.7.1_all.deb ...\n",
            "Unpacking med-config (3.7.1) ...\n",
            "Setting up libncbi-vdb2 (2.11.2+dfsg-4build2) ...\n",
            "Setting up libkdf5-2 (2.11.2+dfsg-4build2) ...\n",
            "Setting up libncbi-wvdb2 (2.11.2+dfsg-4build2) ...\n",
            "Setting up menu (2.1.47ubuntu4) ...\n",
            "Setting up blends-common (0.7.4ubuntu1) ...\n",
            "Setting up sra-toolkit (2.11.3+dfsg-1ubuntu1) ...\n",
            "Setting up med-config (3.7.1) ...\n",
            "debconf: unable to initialize frontend: Dialog\n",
            "debconf: (No usable dialog-like program is installed, so the dialog based frontend cannot be used. at /usr/share/perl5/Debconf/FrontEnd/Dialog.pm line 78.)\n",
            "debconf: falling back to frontend: Readline\n",
            "Adding group `med' (GID 107) ...\n",
            "Done.\n",
            "Processing triggers for man-db (2.10.2-1) ...\n",
            "Processing triggers for libc-bin (2.35-0ubuntu3.4) ...\n",
            "/sbin/ldconfig.real: /usr/local/lib/libur_adapter_opencl.so.0 is not a symbolic link\n",
            "\n",
            "/sbin/ldconfig.real: /usr/local/lib/libtbbbind.so.3 is not a symbolic link\n",
            "\n",
            "/sbin/ldconfig.real: /usr/local/lib/libtbbmalloc.so.2 is not a symbolic link\n",
            "\n",
            "/sbin/ldconfig.real: /usr/local/lib/libur_loader.so.0 is not a symbolic link\n",
            "\n",
            "/sbin/ldconfig.real: /usr/local/lib/libtbbmalloc_proxy.so.2 is not a symbolic link\n",
            "\n",
            "/sbin/ldconfig.real: /usr/local/lib/libur_adapter_level_zero.so.0 is not a symbolic link\n",
            "\n",
            "/sbin/ldconfig.real: /usr/local/lib/libtbbbind_2_5.so.3 is not a symbolic link\n",
            "\n",
            "/sbin/ldconfig.real: /usr/local/lib/libtbbbind_2_0.so.3 is not a symbolic link\n",
            "\n",
            "/sbin/ldconfig.real: /usr/local/lib/libtbb.so.12 is not a symbolic link\n",
            "\n",
            "Processing triggers for menu (2.1.47ubuntu4) ...\n"
          ]
        }
      ]
    },
    {
      "cell_type": "markdown",
      "source": [
        "2. Download a small E. coli dataset:\n"
      ],
      "metadata": {
        "id": "6GJEeaT7J5vQ"
      }
    },
    {
      "cell_type": "code",
      "source": [
        "!prefetch SRR1770413\n",
        "!fastq-dump --split-files SRR1770413"
      ],
      "metadata": {
        "colab": {
          "base_uri": "https://localhost:8080/"
        },
        "id": "VsBKanaGFyXk",
        "outputId": "29ea55bd-dc83-44bd-af34-83905facde97"
      },
      "execution_count": 13,
      "outputs": [
        {
          "output_type": "stream",
          "name": "stdout",
          "text": [
            "\n",
            "2024-08-29T09:45:59 prefetch.2.11.3: Current preference is set to retrieve SRA Normalized Format files with full base quality scores.\n",
            "2024-08-29T09:46:00 prefetch.2.11.3: 1) Downloading 'SRR1770413'...\n",
            "2024-08-29T09:46:00 prefetch.2.11.3: SRA Normalized Format file is being retrieved, if this is different from your preference, it may be due to current file availability.\n",
            "2024-08-29T09:46:00 prefetch.2.11.3:  Downloading via HTTPS...\n",
            "2024-08-29T09:46:06 prefetch.2.11.3:  HTTPS download succeed\n",
            "2024-08-29T09:46:07 prefetch.2.11.3:  'SRR1770413' is valid\n",
            "2024-08-29T09:46:07 prefetch.2.11.3: 1) 'SRR1770413' was downloaded successfully\n",
            "2024-08-29T09:46:07 prefetch.2.11.3: 'SRR1770413' has 0 unresolved dependencies\n",
            "Read 643253 spots for SRR1770413\n",
            "Written 643253 spots for SRR1770413\n"
          ]
        }
      ]
    },
    {
      "cell_type": "markdown",
      "source": [
        "This will give you two FASTQ files: `SRR1770413_1.fastq` and `SRR1770413_2.fastq`.\n",
        "\n"
      ],
      "metadata": {
        "id": "sPukNWKIKOiB"
      }
    },
    {
      "cell_type": "markdown",
      "source": [
        "### 1.2 Download the Reference Genome\n",
        "Download the E. coli reference genome:\n"
      ],
      "metadata": {
        "id": "MrFCjaytKTim"
      }
    },
    {
      "cell_type": "code",
      "source": [
        "!wget ftp://ftp.ensemblgenomes.org/pub/bacteria/release-45/fasta/bacteria_0_collection/escherichia_coli_str_k_12_substr_mg1655/dna/Escherichia_coli_str_k_12_substr_mg1655.ASM584v2.dna.toplevel.fa.gz\n",
        "!gunzip Escherichia_coli_str_k_12_substr_mg1655.ASM584v2.dna.toplevel.fa.gz"
      ],
      "metadata": {
        "colab": {
          "base_uri": "https://localhost:8080/"
        },
        "id": "hKTd77c8Elz6",
        "outputId": "de8ac13b-1b9f-4b37-a8c1-d65be64914ce"
      },
      "execution_count": 14,
      "outputs": [
        {
          "output_type": "stream",
          "name": "stdout",
          "text": [
            "--2024-08-29 09:46:29--  ftp://ftp.ensemblgenomes.org/pub/bacteria/release-45/fasta/bacteria_0_collection/escherichia_coli_str_k_12_substr_mg1655/dna/Escherichia_coli_str_k_12_substr_mg1655.ASM584v2.dna.toplevel.fa.gz\n",
            "           => ‘Escherichia_coli_str_k_12_substr_mg1655.ASM584v2.dna.toplevel.fa.gz’\n",
            "Resolving ftp.ensemblgenomes.org (ftp.ensemblgenomes.org)... 193.62.193.161\n",
            "Connecting to ftp.ensemblgenomes.org (ftp.ensemblgenomes.org)|193.62.193.161|:21... connected.\n",
            "Logging in as anonymous ... Logged in!\n",
            "==> SYST ... done.    ==> PWD ... done.\n",
            "==> TYPE I ... done.  ==> CWD (1) /pub/bacteria/release-45/fasta/bacteria_0_collection/escherichia_coli_str_k_12_substr_mg1655/dna ... done.\n",
            "==> SIZE Escherichia_coli_str_k_12_substr_mg1655.ASM584v2.dna.toplevel.fa.gz ... 1442049\n",
            "==> PASV ... done.    ==> RETR Escherichia_coli_str_k_12_substr_mg1655.ASM584v2.dna.toplevel.fa.gz ... done.\n",
            "Length: 1442049 (1.4M) (unauthoritative)\n",
            "\n",
            "Escherichia_coli_st 100%[===================>]   1.38M  1.34MB/s    in 1.0s    \n",
            "\n",
            "2024-08-29 09:46:32 (1.34 MB/s) - ‘Escherichia_coli_str_k_12_substr_mg1655.ASM584v2.dna.toplevel.fa.gz’ saved [1442049]\n",
            "\n",
            "gzip: Escherichia_coli_str_k_12_substr_mg1655.ASM584v2.dna.toplevel.fa already exists; do you wish to overwrite (y or n)? y\n"
          ]
        }
      ]
    },
    {
      "cell_type": "markdown",
      "source": [
        "### 1.3 Align Reads to Reference\n",
        "Now, let's align the reads to the reference genome using BWA:\n"
      ],
      "metadata": {
        "id": "tcdLQkY5KWe4"
      }
    },
    {
      "cell_type": "code",
      "source": [
        "!sudo apt-get install bwa\n",
        "\n",
        "# Index the reference genome\n",
        "!bwa index Escherichia_coli_str_k_12_substr_mg1655.ASM584v2.dna.toplevel.fa\n",
        "\n",
        "# Align reads\n",
        "!bwa mem Escherichia_coli_str_k_12_substr_mg1655.ASM584v2.dna.toplevel.fa SRR1770413_1.fastq SRR1770413_2.fastq > aligned_reads.sam\n"
      ],
      "metadata": {
        "colab": {
          "base_uri": "https://localhost:8080/"
        },
        "id": "qEdaTzC1HTQi",
        "outputId": "01c288d0-d139-46ff-c2df-030615925818"
      },
      "execution_count": 15,
      "outputs": [
        {
          "output_type": "stream",
          "name": "stdout",
          "text": [
            "Reading package lists... Done\n",
            "Building dependency tree... Done\n",
            "Reading state information... Done\n",
            "bwa is already the newest version (0.7.17-6).\n",
            "0 upgraded, 0 newly installed, 0 to remove and 49 not upgraded.\n",
            "[bwa_index] Pack FASTA... 0.03 sec\n",
            "[bwa_index] Construct BWT for the packed sequence...\n",
            "[bwa_index] 1.15 seconds elapse.\n",
            "[bwa_index] Update BWT... 0.03 sec\n",
            "[bwa_index] Pack forward-only FASTA... 0.03 sec\n",
            "[bwa_index] Construct SA from BWT and Occ... 0.70 sec\n",
            "[main] Version: 0.7.17-r1188\n",
            "[main] CMD: bwa index Escherichia_coli_str_k_12_substr_mg1655.ASM584v2.dna.toplevel.fa\n",
            "[main] Real time: 2.044 sec; CPU: 1.941 sec\n",
            "[M::bwa_idx_load_from_disk] read 0 ALT contigs\n",
            "[M::process] read 33224 sequences (10000424 bp)...\n",
            "[M::process] read 33224 sequences (10000424 bp)...\n",
            "[M::mem_pestat] # candidate unique pairs for (FF, FR, RF, RR): (1, 11363, 0, 2)\n",
            "[M::mem_pestat] skip orientation FF as there are not enough pairs\n",
            "[M::mem_pestat] analyzing insert size distribution for orientation FR...\n",
            "[M::mem_pestat] (25, 50, 75) percentile: (518, 581, 641)\n",
            "[M::mem_pestat] low and high boundaries for computing mean and std.dev: (272, 887)\n",
            "[M::mem_pestat] mean and std.dev: (577.69, 100.73)\n",
            "[M::mem_pestat] low and high boundaries for proper pairs: (149, 1010)\n",
            "[M::mem_pestat] skip orientation RF as there are not enough pairs\n",
            "[M::mem_pestat] skip orientation RR as there are not enough pairs\n",
            "[M::mem_process_seqs] Processed 33224 reads in 7.814 CPU sec, 7.931 real sec\n",
            "[M::process] read 33224 sequences (10000424 bp)...\n",
            "[M::mem_pestat] # candidate unique pairs for (FF, FR, RF, RR): (1, 11499, 0, 0)\n",
            "[M::mem_pestat] skip orientation FF as there are not enough pairs\n",
            "[M::mem_pestat] analyzing insert size distribution for orientation FR...\n",
            "[M::mem_pestat] (25, 50, 75) percentile: (517, 581, 640)\n",
            "[M::mem_pestat] low and high boundaries for computing mean and std.dev: (271, 886)\n",
            "[M::mem_pestat] mean and std.dev: (577.20, 102.26)\n",
            "[M::mem_pestat] low and high boundaries for proper pairs: (148, 1009)\n",
            "[M::mem_pestat] skip orientation RF as there are not enough pairs\n",
            "[M::mem_pestat] skip orientation RR as there are not enough pairs\n",
            "[M::mem_process_seqs] Processed 33224 reads in 5.177 CPU sec, 5.083 real sec\n",
            "[M::process] read 33224 sequences (10000424 bp)...\n",
            "[M::mem_pestat] # candidate unique pairs for (FF, FR, RF, RR): (2, 11398, 0, 1)\n",
            "[M::mem_pestat] skip orientation FF as there are not enough pairs\n",
            "[M::mem_pestat] analyzing insert size distribution for orientation FR...\n",
            "[M::mem_pestat] (25, 50, 75) percentile: (517, 580, 641)\n",
            "[M::mem_pestat] low and high boundaries for computing mean and std.dev: (269, 889)\n",
            "[M::mem_pestat] mean and std.dev: (576.76, 101.75)\n",
            "[M::mem_pestat] low and high boundaries for proper pairs: (145, 1013)\n",
            "[M::mem_pestat] skip orientation RF as there are not enough pairs\n",
            "[M::mem_pestat] skip orientation RR as there are not enough pairs\n",
            "[M::mem_process_seqs] Processed 33224 reads in 5.367 CPU sec, 5.293 real sec\n",
            "[M::process] read 33224 sequences (10000424 bp)...\n",
            "[M::mem_pestat] # candidate unique pairs for (FF, FR, RF, RR): (2, 11305, 0, 1)\n",
            "[M::mem_pestat] skip orientation FF as there are not enough pairs\n",
            "[M::mem_pestat] analyzing insert size distribution for orientation FR...\n",
            "[M::mem_pestat] (25, 50, 75) percentile: (518, 580, 641)\n",
            "[M::mem_pestat] low and high boundaries for computing mean and std.dev: (272, 887)\n",
            "[M::mem_pestat] mean and std.dev: (577.33, 101.17)\n",
            "[M::mem_pestat] low and high boundaries for proper pairs: (149, 1010)\n",
            "[M::mem_pestat] skip orientation RF as there are not enough pairs\n",
            "[M::mem_pestat] skip orientation RR as there are not enough pairs\n",
            "[M::mem_process_seqs] Processed 33224 reads in 7.608 CPU sec, 7.786 real sec\n",
            "[M::process] read 33224 sequences (10000424 bp)...\n",
            "[M::mem_pestat] # candidate unique pairs for (FF, FR, RF, RR): (1, 11445, 0, 1)\n",
            "[M::mem_pestat] skip orientation FF as there are not enough pairs\n",
            "[M::mem_pestat] analyzing insert size distribution for orientation FR...\n",
            "[M::mem_pestat] (25, 50, 75) percentile: (517, 581, 642)\n",
            "[M::mem_pestat] low and high boundaries for computing mean and std.dev: (267, 892)\n",
            "[M::mem_pestat] mean and std.dev: (577.54, 102.09)\n",
            "[M::mem_pestat] low and high boundaries for proper pairs: (142, 1017)\n",
            "[M::mem_pestat] skip orientation RF as there are not enough pairs\n",
            "[M::mem_pestat] skip orientation RR as there are not enough pairs\n",
            "[M::mem_process_seqs] Processed 33224 reads in 5.012 CPU sec, 4.929 real sec\n",
            "[M::process] read 33224 sequences (10000424 bp)...\n",
            "[M::mem_pestat] # candidate unique pairs for (FF, FR, RF, RR): (0, 11439, 0, 0)\n",
            "[M::mem_pestat] skip orientation FF as there are not enough pairs\n",
            "[M::mem_pestat] analyzing insert size distribution for orientation FR...\n",
            "[M::mem_pestat] (25, 50, 75) percentile: (516, 580, 642)\n",
            "[M::mem_pestat] low and high boundaries for computing mean and std.dev: (264, 894)\n",
            "[M::mem_pestat] mean and std.dev: (576.61, 103.94)\n",
            "[M::mem_pestat] low and high boundaries for proper pairs: (138, 1020)\n",
            "[M::mem_pestat] skip orientation RF as there are not enough pairs\n",
            "[M::mem_pestat] skip orientation RR as there are not enough pairs\n",
            "[M::mem_process_seqs] Processed 33224 reads in 4.888 CPU sec, 4.796 real sec\n",
            "[M::process] read 33224 sequences (10000424 bp)...\n",
            "[M::mem_pestat] # candidate unique pairs for (FF, FR, RF, RR): (0, 11375, 0, 0)\n",
            "[M::mem_pestat] skip orientation FF as there are not enough pairs\n",
            "[M::mem_pestat] analyzing insert size distribution for orientation FR...\n",
            "[M::mem_pestat] (25, 50, 75) percentile: (517, 580, 641)\n",
            "[M::mem_pestat] low and high boundaries for computing mean and std.dev: (269, 889)\n",
            "[M::mem_pestat] mean and std.dev: (577.07, 102.35)\n",
            "[M::mem_pestat] low and high boundaries for proper pairs: (145, 1013)\n",
            "[M::mem_pestat] skip orientation RF as there are not enough pairs\n",
            "[M::mem_pestat] skip orientation RR as there are not enough pairs\n",
            "[M::mem_process_seqs] Processed 33224 reads in 7.366 CPU sec, 7.455 real sec\n",
            "[M::process] read 33224 sequences (10000424 bp)...\n",
            "[M::mem_pestat] # candidate unique pairs for (FF, FR, RF, RR): (0, 11464, 0, 0)\n",
            "[M::mem_pestat] skip orientation FF as there are not enough pairs\n",
            "[M::mem_pestat] analyzing insert size distribution for orientation FR...\n",
            "[M::mem_pestat] (25, 50, 75) percentile: (516, 580, 642)\n",
            "[M::mem_pestat] low and high boundaries for computing mean and std.dev: (264, 894)\n",
            "[M::mem_pestat] mean and std.dev: (576.16, 103.12)\n",
            "[M::mem_pestat] low and high boundaries for proper pairs: (138, 1020)\n",
            "[M::mem_pestat] skip orientation RF as there are not enough pairs\n",
            "[M::mem_pestat] skip orientation RR as there are not enough pairs\n",
            "[M::mem_process_seqs] Processed 33224 reads in 5.624 CPU sec, 5.631 real sec\n",
            "[M::process] read 33224 sequences (10000424 bp)...\n",
            "[M::mem_pestat] # candidate unique pairs for (FF, FR, RF, RR): (0, 11429, 0, 1)\n",
            "[M::mem_pestat] skip orientation FF as there are not enough pairs\n",
            "[M::mem_pestat] analyzing insert size distribution for orientation FR...\n",
            "[M::mem_pestat] (25, 50, 75) percentile: (518, 580, 641)\n",
            "[M::mem_pestat] low and high boundaries for computing mean and std.dev: (272, 887)\n",
            "[M::mem_pestat] mean and std.dev: (577.44, 101.53)\n",
            "[M::mem_pestat] low and high boundaries for proper pairs: (149, 1010)\n",
            "[M::mem_pestat] skip orientation RF as there are not enough pairs\n",
            "[M::mem_pestat] skip orientation RR as there are not enough pairs\n",
            "[M::mem_process_seqs] Processed 33224 reads in 4.931 CPU sec, 4.842 real sec\n",
            "[M::process] read 33224 sequences (10000424 bp)...\n",
            "[M::mem_pestat] # candidate unique pairs for (FF, FR, RF, RR): (1, 11347, 0, 0)\n",
            "[M::mem_pestat] skip orientation FF as there are not enough pairs\n",
            "[M::mem_pestat] analyzing insert size distribution for orientation FR...\n",
            "[M::mem_pestat] (25, 50, 75) percentile: (518, 580, 643)\n",
            "[M::mem_pestat] low and high boundaries for computing mean and std.dev: (268, 893)\n",
            "[M::mem_pestat] mean and std.dev: (577.62, 101.86)\n",
            "[M::mem_pestat] low and high boundaries for proper pairs: (143, 1018)\n",
            "[M::mem_pestat] skip orientation RF as there are not enough pairs\n",
            "[M::mem_pestat] skip orientation RR as there are not enough pairs\n",
            "[M::mem_process_seqs] Processed 33224 reads in 6.670 CPU sec, 6.802 real sec\n",
            "[M::process] read 33224 sequences (10000424 bp)...\n",
            "[M::mem_pestat] # candidate unique pairs for (FF, FR, RF, RR): (0, 11457, 0, 1)\n",
            "[M::mem_pestat] skip orientation FF as there are not enough pairs\n",
            "[M::mem_pestat] analyzing insert size distribution for orientation FR...\n",
            "[M::mem_pestat] (25, 50, 75) percentile: (516, 578, 639)\n",
            "[M::mem_pestat] low and high boundaries for computing mean and std.dev: (270, 885)\n",
            "[M::mem_pestat] mean and std.dev: (574.62, 101.98)\n",
            "[M::mem_pestat] low and high boundaries for proper pairs: (147, 1008)\n",
            "[M::mem_pestat] skip orientation RF as there are not enough pairs\n",
            "[M::mem_pestat] skip orientation RR as there are not enough pairs\n",
            "[M::mem_process_seqs] Processed 33224 reads in 6.589 CPU sec, 6.677 real sec\n",
            "[M::process] read 33224 sequences (10000424 bp)...\n",
            "[M::mem_pestat] # candidate unique pairs for (FF, FR, RF, RR): (1, 11410, 0, 1)\n",
            "[M::mem_pestat] skip orientation FF as there are not enough pairs\n",
            "[M::mem_pestat] analyzing insert size distribution for orientation FR...\n",
            "[M::mem_pestat] (25, 50, 75) percentile: (517, 579, 639)\n",
            "[M::mem_pestat] low and high boundaries for computing mean and std.dev: (273, 883)\n",
            "[M::mem_pestat] mean and std.dev: (575.11, 101.38)\n",
            "[M::mem_pestat] low and high boundaries for proper pairs: (151, 1005)\n",
            "[M::mem_pestat] skip orientation RF as there are not enough pairs\n",
            "[M::mem_pestat] skip orientation RR as there are not enough pairs\n",
            "[M::mem_process_seqs] Processed 33224 reads in 4.936 CPU sec, 4.844 real sec\n",
            "[M::process] read 33224 sequences (10000424 bp)...\n",
            "[M::mem_pestat] # candidate unique pairs for (FF, FR, RF, RR): (2, 11419, 0, 2)\n",
            "[M::mem_pestat] skip orientation FF as there are not enough pairs\n",
            "[M::mem_pestat] analyzing insert size distribution for orientation FR...\n",
            "[M::mem_pestat] (25, 50, 75) percentile: (517, 581, 641)\n",
            "[M::mem_pestat] low and high boundaries for computing mean and std.dev: (269, 889)\n",
            "[M::mem_pestat] mean and std.dev: (576.50, 102.46)\n",
            "[M::mem_pestat] low and high boundaries for proper pairs: (145, 1013)\n",
            "[M::mem_pestat] skip orientation RF as there are not enough pairs\n",
            "[M::mem_pestat] skip orientation RR as there are not enough pairs\n",
            "[M::mem_process_seqs] Processed 33224 reads in 5.818 CPU sec, 5.806 real sec\n",
            "[M::process] read 33224 sequences (10000424 bp)...\n",
            "[M::mem_pestat] # candidate unique pairs for (FF, FR, RF, RR): (1, 11375, 0, 1)\n",
            "[M::mem_pestat] skip orientation FF as there are not enough pairs\n",
            "[M::mem_pestat] analyzing insert size distribution for orientation FR...\n",
            "[M::mem_pestat] (25, 50, 75) percentile: (516, 580, 642)\n",
            "[M::mem_pestat] low and high boundaries for computing mean and std.dev: (264, 894)\n",
            "[M::mem_pestat] mean and std.dev: (576.28, 104.44)\n",
            "[M::mem_pestat] low and high boundaries for proper pairs: (138, 1020)\n",
            "[M::mem_pestat] skip orientation RF as there are not enough pairs\n",
            "[M::mem_pestat] skip orientation RR as there are not enough pairs\n",
            "[M::mem_process_seqs] Processed 33224 reads in 7.641 CPU sec, 7.899 real sec\n",
            "[M::process] read 33224 sequences (10000424 bp)...\n",
            "[M::mem_pestat] # candidate unique pairs for (FF, FR, RF, RR): (0, 11387, 0, 0)\n",
            "[M::mem_pestat] skip orientation FF as there are not enough pairs\n",
            "[M::mem_pestat] analyzing insert size distribution for orientation FR...\n",
            "[M::mem_pestat] (25, 50, 75) percentile: (517, 580, 640)\n",
            "[M::mem_pestat] low and high boundaries for computing mean and std.dev: (271, 886)\n",
            "[M::mem_pestat] mean and std.dev: (576.05, 102.61)\n",
            "[M::mem_pestat] low and high boundaries for proper pairs: (148, 1009)\n",
            "[M::mem_pestat] skip orientation RF as there are not enough pairs\n",
            "[M::mem_pestat] skip orientation RR as there are not enough pairs\n",
            "[M::mem_process_seqs] Processed 33224 reads in 5.041 CPU sec, 4.961 real sec\n",
            "[M::process] read 33224 sequences (10000424 bp)...\n",
            "[M::mem_pestat] # candidate unique pairs for (FF, FR, RF, RR): (1, 11374, 0, 1)\n",
            "[M::mem_pestat] skip orientation FF as there are not enough pairs\n",
            "[M::mem_pestat] analyzing insert size distribution for orientation FR...\n",
            "[M::mem_pestat] (25, 50, 75) percentile: (519, 583, 643)\n",
            "[M::mem_pestat] low and high boundaries for computing mean and std.dev: (271, 891)\n",
            "[M::mem_pestat] mean and std.dev: (578.36, 102.02)\n",
            "[M::mem_pestat] low and high boundaries for proper pairs: (147, 1015)\n",
            "[M::mem_pestat] skip orientation RF as there are not enough pairs\n",
            "[M::mem_pestat] skip orientation RR as there are not enough pairs\n",
            "[M::mem_process_seqs] Processed 33224 reads in 4.978 CPU sec, 4.886 real sec\n",
            "[M::process] read 33224 sequences (10000424 bp)...\n",
            "[M::mem_pestat] # candidate unique pairs for (FF, FR, RF, RR): (1, 11563, 0, 0)\n",
            "[M::mem_pestat] skip orientation FF as there are not enough pairs\n",
            "[M::mem_pestat] analyzing insert size distribution for orientation FR...\n",
            "[M::mem_pestat] (25, 50, 75) percentile: (517, 579, 638)\n",
            "[M::mem_pestat] low and high boundaries for computing mean and std.dev: (275, 880)\n",
            "[M::mem_pestat] mean and std.dev: (575.70, 100.13)\n",
            "[M::mem_pestat] low and high boundaries for proper pairs: (154, 1001)\n",
            "[M::mem_pestat] skip orientation RF as there are not enough pairs\n",
            "[M::mem_pestat] skip orientation RR as there are not enough pairs\n",
            "[M::mem_process_seqs] Processed 33224 reads in 7.424 CPU sec, 7.581 real sec\n",
            "[M::process] read 33224 sequences (10000424 bp)...\n",
            "[M::mem_pestat] # candidate unique pairs for (FF, FR, RF, RR): (1, 11351, 0, 3)\n",
            "[M::mem_pestat] skip orientation FF as there are not enough pairs\n",
            "[M::mem_pestat] analyzing insert size distribution for orientation FR...\n",
            "[M::mem_pestat] (25, 50, 75) percentile: (517, 580, 642)\n",
            "[M::mem_pestat] low and high boundaries for computing mean and std.dev: (267, 892)\n",
            "[M::mem_pestat] mean and std.dev: (577.40, 101.92)\n",
            "[M::mem_pestat] low and high boundaries for proper pairs: (142, 1017)\n",
            "[M::mem_pestat] skip orientation RF as there are not enough pairs\n",
            "[M::mem_pestat] skip orientation RR as there are not enough pairs\n",
            "[M::mem_process_seqs] Processed 33224 reads in 6.087 CPU sec, 6.170 real sec\n",
            "[M::process] read 33224 sequences (10000424 bp)...\n",
            "[M::mem_pestat] # candidate unique pairs for (FF, FR, RF, RR): (0, 11404, 0, 1)\n",
            "[M::mem_pestat] skip orientation FF as there are not enough pairs\n",
            "[M::mem_pestat] analyzing insert size distribution for orientation FR...\n",
            "[M::mem_pestat] (25, 50, 75) percentile: (518, 580, 641)\n",
            "[M::mem_pestat] low and high boundaries for computing mean and std.dev: (272, 887)\n",
            "[M::mem_pestat] mean and std.dev: (577.66, 101.76)\n",
            "[M::mem_pestat] low and high boundaries for proper pairs: (149, 1010)\n",
            "[M::mem_pestat] skip orientation RF as there are not enough pairs\n",
            "[M::mem_pestat] skip orientation RR as there are not enough pairs\n",
            "[M::mem_process_seqs] Processed 33224 reads in 5.031 CPU sec, 4.939 real sec\n",
            "[M::process] read 33224 sequences (10000424 bp)...\n",
            "[M::mem_pestat] # candidate unique pairs for (FF, FR, RF, RR): (3, 11479, 0, 2)\n",
            "[M::mem_pestat] skip orientation FF as there are not enough pairs\n",
            "[M::mem_pestat] analyzing insert size distribution for orientation FR...\n",
            "[M::mem_pestat] (25, 50, 75) percentile: (516, 580, 641)\n",
            "[M::mem_pestat] low and high boundaries for computing mean and std.dev: (266, 891)\n",
            "[M::mem_pestat] mean and std.dev: (575.63, 102.54)\n",
            "[M::mem_pestat] low and high boundaries for proper pairs: (141, 1016)\n",
            "[M::mem_pestat] skip orientation RF as there are not enough pairs\n",
            "[M::mem_pestat] skip orientation RR as there are not enough pairs\n",
            "[M::mem_process_seqs] Processed 33224 reads in 6.605 CPU sec, 6.716 real sec\n",
            "[M::process] read 33224 sequences (10000424 bp)...\n",
            "[M::mem_pestat] # candidate unique pairs for (FF, FR, RF, RR): (0, 11497, 0, 0)\n",
            "[M::mem_pestat] skip orientation FF as there are not enough pairs\n",
            "[M::mem_pestat] analyzing insert size distribution for orientation FR...\n",
            "[M::mem_pestat] (25, 50, 75) percentile: (517, 580, 641)\n",
            "[M::mem_pestat] low and high boundaries for computing mean and std.dev: (269, 889)\n",
            "[M::mem_pestat] mean and std.dev: (576.80, 102.66)\n",
            "[M::mem_pestat] low and high boundaries for proper pairs: (145, 1013)\n",
            "[M::mem_pestat] skip orientation RF as there are not enough pairs\n",
            "[M::mem_pestat] skip orientation RR as there are not enough pairs\n",
            "[M::mem_process_seqs] Processed 33224 reads in 7.663 CPU sec, 7.799 real sec\n",
            "[M::process] read 33224 sequences (10000424 bp)...\n",
            "[M::mem_pestat] # candidate unique pairs for (FF, FR, RF, RR): (0, 11656, 0, 1)\n",
            "[M::mem_pestat] skip orientation FF as there are not enough pairs\n",
            "[M::mem_pestat] analyzing insert size distribution for orientation FR...\n",
            "[M::mem_pestat] (25, 50, 75) percentile: (518, 579, 641)\n",
            "[M::mem_pestat] low and high boundaries for computing mean and std.dev: (272, 887)\n",
            "[M::mem_pestat] mean and std.dev: (577.11, 102.48)\n",
            "[M::mem_pestat] low and high boundaries for proper pairs: (149, 1010)\n",
            "[M::mem_pestat] skip orientation RF as there are not enough pairs\n",
            "[M::mem_pestat] skip orientation RR as there are not enough pairs\n",
            "[M::mem_process_seqs] Processed 33224 reads in 6.201 CPU sec, 6.228 real sec\n",
            "[M::process] read 33224 sequences (10000424 bp)...\n",
            "[M::mem_pestat] # candidate unique pairs for (FF, FR, RF, RR): (0, 11671, 0, 0)\n",
            "[M::mem_pestat] skip orientation FF as there are not enough pairs\n",
            "[M::mem_pestat] analyzing insert size distribution for orientation FR...\n",
            "[M::mem_pestat] (25, 50, 75) percentile: (521, 583, 645)\n",
            "[M::mem_pestat] low and high boundaries for computing mean and std.dev: (273, 893)\n",
            "[M::mem_pestat] mean and std.dev: (579.59, 102.21)\n",
            "[M::mem_pestat] low and high boundaries for proper pairs: (149, 1017)\n",
            "[M::mem_pestat] skip orientation RF as there are not enough pairs\n",
            "[M::mem_pestat] skip orientation RR as there are not enough pairs\n",
            "[M::mem_process_seqs] Processed 33224 reads in 7.697 CPU sec, 8.216 real sec\n",
            "[M::process] read 33224 sequences (10000424 bp)...\n",
            "[M::mem_pestat] # candidate unique pairs for (FF, FR, RF, RR): (1, 11515, 0, 0)\n",
            "[M::mem_pestat] skip orientation FF as there are not enough pairs\n",
            "[M::mem_pestat] analyzing insert size distribution for orientation FR...\n",
            "[M::mem_pestat] (25, 50, 75) percentile: (518, 580, 644)\n",
            "[M::mem_pestat] low and high boundaries for computing mean and std.dev: (266, 896)\n",
            "[M::mem_pestat] mean and std.dev: (577.29, 103.96)\n",
            "[M::mem_pestat] low and high boundaries for proper pairs: (140, 1022)\n",
            "[M::mem_pestat] skip orientation RF as there are not enough pairs\n",
            "[M::mem_pestat] skip orientation RR as there are not enough pairs\n",
            "[M::mem_process_seqs] Processed 33224 reads in 7.744 CPU sec, 8.003 real sec\n",
            "[M::process] read 33224 sequences (10000424 bp)...\n",
            "[M::mem_pestat] # candidate unique pairs for (FF, FR, RF, RR): (2, 11610, 0, 0)\n",
            "[M::mem_pestat] skip orientation FF as there are not enough pairs\n",
            "[M::mem_pestat] analyzing insert size distribution for orientation FR...\n",
            "[M::mem_pestat] (25, 50, 75) percentile: (518, 581, 643)\n",
            "[M::mem_pestat] low and high boundaries for computing mean and std.dev: (268, 893)\n",
            "[M::mem_pestat] mean and std.dev: (578.16, 103.04)\n",
            "[M::mem_pestat] low and high boundaries for proper pairs: (143, 1018)\n",
            "[M::mem_pestat] skip orientation RF as there are not enough pairs\n",
            "[M::mem_pestat] skip orientation RR as there are not enough pairs\n",
            "[M::mem_process_seqs] Processed 33224 reads in 6.167 CPU sec, 6.222 real sec\n",
            "[M::process] read 33224 sequences (10000424 bp)...\n",
            "[M::mem_pestat] # candidate unique pairs for (FF, FR, RF, RR): (0, 11502, 0, 2)\n",
            "[M::mem_pestat] skip orientation FF as there are not enough pairs\n",
            "[M::mem_pestat] analyzing insert size distribution for orientation FR...\n",
            "[M::mem_pestat] (25, 50, 75) percentile: (518, 582, 642)\n",
            "[M::mem_pestat] low and high boundaries for computing mean and std.dev: (270, 890)\n",
            "[M::mem_pestat] mean and std.dev: (577.40, 102.42)\n",
            "[M::mem_pestat] low and high boundaries for proper pairs: (146, 1014)\n",
            "[M::mem_pestat] skip orientation RF as there are not enough pairs\n",
            "[M::mem_pestat] skip orientation RR as there are not enough pairs\n",
            "[M::mem_process_seqs] Processed 33224 reads in 5.017 CPU sec, 4.926 real sec\n",
            "[M::process] read 33224 sequences (10000424 bp)...\n",
            "[M::mem_pestat] # candidate unique pairs for (FF, FR, RF, RR): (2, 11626, 0, 0)\n",
            "[M::mem_pestat] skip orientation FF as there are not enough pairs\n",
            "[M::mem_pestat] analyzing insert size distribution for orientation FR...\n",
            "[M::mem_pestat] (25, 50, 75) percentile: (517, 582, 642)\n",
            "[M::mem_pestat] low and high boundaries for computing mean and std.dev: (267, 892)\n",
            "[M::mem_pestat] mean and std.dev: (577.67, 102.30)\n",
            "[M::mem_pestat] low and high boundaries for proper pairs: (142, 1017)\n",
            "[M::mem_pestat] skip orientation RF as there are not enough pairs\n",
            "[M::mem_pestat] skip orientation RR as there are not enough pairs\n",
            "[M::mem_process_seqs] Processed 33224 reads in 6.328 CPU sec, 6.331 real sec\n",
            "[M::process] read 33224 sequences (10000424 bp)...\n",
            "[M::mem_pestat] # candidate unique pairs for (FF, FR, RF, RR): (0, 11618, 0, 1)\n",
            "[M::mem_pestat] skip orientation FF as there are not enough pairs\n",
            "[M::mem_pestat] analyzing insert size distribution for orientation FR...\n",
            "[M::mem_pestat] (25, 50, 75) percentile: (519, 580, 641)\n",
            "[M::mem_pestat] low and high boundaries for computing mean and std.dev: (275, 885)\n",
            "[M::mem_pestat] mean and std.dev: (577.34, 101.32)\n",
            "[M::mem_pestat] low and high boundaries for proper pairs: (153, 1007)\n",
            "[M::mem_pestat] skip orientation RF as there are not enough pairs\n",
            "[M::mem_pestat] skip orientation RR as there are not enough pairs\n",
            "[M::mem_process_seqs] Processed 33224 reads in 7.775 CPU sec, 7.977 real sec\n",
            "[M::process] read 33224 sequences (10000424 bp)...\n",
            "[M::mem_pestat] # candidate unique pairs for (FF, FR, RF, RR): (0, 11438, 0, 0)\n",
            "[M::mem_pestat] skip orientation FF as there are not enough pairs\n",
            "[M::mem_pestat] analyzing insert size distribution for orientation FR...\n",
            "[M::mem_pestat] (25, 50, 75) percentile: (517, 579, 641)\n",
            "[M::mem_pestat] low and high boundaries for computing mean and std.dev: (269, 889)\n",
            "[M::mem_pestat] mean and std.dev: (576.61, 102.65)\n",
            "[M::mem_pestat] low and high boundaries for proper pairs: (145, 1013)\n",
            "[M::mem_pestat] skip orientation RF as there are not enough pairs\n",
            "[M::mem_pestat] skip orientation RR as there are not enough pairs\n",
            "[M::mem_process_seqs] Processed 33224 reads in 5.191 CPU sec, 5.178 real sec\n",
            "[M::process] read 33224 sequences (10000424 bp)...\n",
            "[M::mem_pestat] # candidate unique pairs for (FF, FR, RF, RR): (1, 11538, 0, 4)\n",
            "[M::mem_pestat] skip orientation FF as there are not enough pairs\n",
            "[M::mem_pestat] analyzing insert size distribution for orientation FR...\n",
            "[M::mem_pestat] (25, 50, 75) percentile: (519, 582, 642)\n",
            "[M::mem_pestat] low and high boundaries for computing mean and std.dev: (273, 888)\n",
            "[M::mem_pestat] mean and std.dev: (577.63, 101.70)\n",
            "[M::mem_pestat] low and high boundaries for proper pairs: (150, 1011)\n",
            "[M::mem_pestat] skip orientation RF as there are not enough pairs\n",
            "[M::mem_pestat] skip orientation RR as there are not enough pairs\n",
            "[M::mem_process_seqs] Processed 33224 reads in 5.120 CPU sec, 5.023 real sec\n",
            "[M::process] read 33224 sequences (10000424 bp)...\n",
            "[M::mem_pestat] # candidate unique pairs for (FF, FR, RF, RR): (3, 11533, 0, 2)\n",
            "[M::mem_pestat] skip orientation FF as there are not enough pairs\n",
            "[M::mem_pestat] analyzing insert size distribution for orientation FR...\n",
            "[M::mem_pestat] (25, 50, 75) percentile: (519, 581, 643)\n",
            "[M::mem_pestat] low and high boundaries for computing mean and std.dev: (271, 891)\n",
            "[M::mem_pestat] mean and std.dev: (578.49, 101.58)\n",
            "[M::mem_pestat] low and high boundaries for proper pairs: (147, 1015)\n",
            "[M::mem_pestat] skip orientation RF as there are not enough pairs\n",
            "[M::mem_pestat] skip orientation RR as there are not enough pairs\n",
            "[M::mem_process_seqs] Processed 33224 reads in 7.675 CPU sec, 7.751 real sec\n",
            "[M::process] read 33224 sequences (10000424 bp)...\n",
            "[M::mem_pestat] # candidate unique pairs for (FF, FR, RF, RR): (1, 11657, 0, 0)\n",
            "[M::mem_pestat] skip orientation FF as there are not enough pairs\n",
            "[M::mem_pestat] analyzing insert size distribution for orientation FR...\n",
            "[M::mem_pestat] (25, 50, 75) percentile: (518, 581, 644)\n",
            "[M::mem_pestat] low and high boundaries for computing mean and std.dev: (266, 896)\n",
            "[M::mem_pestat] mean and std.dev: (578.14, 103.35)\n",
            "[M::mem_pestat] low and high boundaries for proper pairs: (140, 1022)\n",
            "[M::mem_pestat] skip orientation RF as there are not enough pairs\n",
            "[M::mem_pestat] skip orientation RR as there are not enough pairs\n",
            "[M::mem_process_seqs] Processed 33224 reads in 7.018 CPU sec, 7.067 real sec\n",
            "[M::process] read 33224 sequences (10000424 bp)...\n",
            "[M::mem_pestat] # candidate unique pairs for (FF, FR, RF, RR): (0, 11671, 0, 0)\n",
            "[M::mem_pestat] skip orientation FF as there are not enough pairs\n",
            "[M::mem_pestat] analyzing insert size distribution for orientation FR...\n",
            "[M::mem_pestat] (25, 50, 75) percentile: (519, 583, 643)\n",
            "[M::mem_pestat] low and high boundaries for computing mean and std.dev: (271, 891)\n",
            "[M::mem_pestat] mean and std.dev: (579.05, 101.67)\n",
            "[M::mem_pestat] low and high boundaries for proper pairs: (147, 1015)\n",
            "[M::mem_pestat] skip orientation RF as there are not enough pairs\n",
            "[M::mem_pestat] skip orientation RR as there are not enough pairs\n",
            "[M::mem_process_seqs] Processed 33224 reads in 5.095 CPU sec, 5.001 real sec\n",
            "[M::process] read 33224 sequences (10000424 bp)...\n",
            "[M::mem_pestat] # candidate unique pairs for (FF, FR, RF, RR): (0, 11522, 0, 0)\n",
            "[M::mem_pestat] skip orientation FF as there are not enough pairs\n",
            "[M::mem_pestat] analyzing insert size distribution for orientation FR...\n",
            "[M::mem_pestat] (25, 50, 75) percentile: (518, 580, 641)\n",
            "[M::mem_pestat] low and high boundaries for computing mean and std.dev: (272, 887)\n",
            "[M::mem_pestat] mean and std.dev: (577.22, 101.51)\n",
            "[M::mem_pestat] low and high boundaries for proper pairs: (149, 1010)\n",
            "[M::mem_pestat] skip orientation RF as there are not enough pairs\n",
            "[M::mem_pestat] skip orientation RR as there are not enough pairs\n",
            "[M::mem_process_seqs] Processed 33224 reads in 5.909 CPU sec, 5.881 real sec\n",
            "[M::process] read 33224 sequences (10000424 bp)...\n",
            "[M::mem_pestat] # candidate unique pairs for (FF, FR, RF, RR): (0, 11602, 0, 1)\n",
            "[M::mem_pestat] skip orientation FF as there are not enough pairs\n",
            "[M::mem_pestat] analyzing insert size distribution for orientation FR...\n",
            "[M::mem_pestat] (25, 50, 75) percentile: (516, 580, 643)\n",
            "[M::mem_pestat] low and high boundaries for computing mean and std.dev: (262, 897)\n",
            "[M::mem_pestat] mean and std.dev: (576.44, 104.66)\n",
            "[M::mem_pestat] low and high boundaries for proper pairs: (135, 1024)\n",
            "[M::mem_pestat] skip orientation RF as there are not enough pairs\n",
            "[M::mem_pestat] skip orientation RR as there are not enough pairs\n",
            "[M::mem_process_seqs] Processed 33224 reads in 7.742 CPU sec, 7.879 real sec\n",
            "[M::process] read 33224 sequences (10000424 bp)...\n",
            "[M::mem_pestat] # candidate unique pairs for (FF, FR, RF, RR): (1, 11557, 0, 2)\n",
            "[M::mem_pestat] skip orientation FF as there are not enough pairs\n",
            "[M::mem_pestat] analyzing insert size distribution for orientation FR...\n",
            "[M::mem_pestat] (25, 50, 75) percentile: (519, 580, 642)\n",
            "[M::mem_pestat] low and high boundaries for computing mean and std.dev: (273, 888)\n",
            "[M::mem_pestat] mean and std.dev: (577.33, 101.96)\n",
            "[M::mem_pestat] low and high boundaries for proper pairs: (150, 1011)\n",
            "[M::mem_pestat] skip orientation RF as there are not enough pairs\n",
            "[M::mem_pestat] skip orientation RR as there are not enough pairs\n",
            "[M::mem_process_seqs] Processed 33224 reads in 6.148 CPU sec, 6.233 real sec\n",
            "[M::process] read 33224 sequences (10000424 bp)...\n",
            "[M::mem_pestat] # candidate unique pairs for (FF, FR, RF, RR): (0, 11519, 0, 0)\n",
            "[M::mem_pestat] skip orientation FF as there are not enough pairs\n",
            "[M::mem_pestat] analyzing insert size distribution for orientation FR...\n",
            "[M::mem_pestat] (25, 50, 75) percentile: (517, 579, 641)\n",
            "[M::mem_pestat] low and high boundaries for computing mean and std.dev: (269, 889)\n",
            "[M::mem_pestat] mean and std.dev: (576.57, 103.21)\n",
            "[M::mem_pestat] low and high boundaries for proper pairs: (145, 1013)\n",
            "[M::mem_pestat] skip orientation RF as there are not enough pairs\n",
            "[M::mem_pestat] skip orientation RR as there are not enough pairs\n",
            "[M::mem_process_seqs] Processed 33224 reads in 5.077 CPU sec, 4.989 real sec\n",
            "[M::process] read 23994 sequences (7222194 bp)...\n",
            "[M::mem_pestat] # candidate unique pairs for (FF, FR, RF, RR): (1, 11531, 0, 0)\n",
            "[M::mem_pestat] skip orientation FF as there are not enough pairs\n",
            "[M::mem_pestat] analyzing insert size distribution for orientation FR...\n",
            "[M::mem_pestat] (25, 50, 75) percentile: (519, 581, 640)\n",
            "[M::mem_pestat] low and high boundaries for computing mean and std.dev: (277, 882)\n",
            "[M::mem_pestat] mean and std.dev: (576.61, 100.90)\n",
            "[M::mem_pestat] low and high boundaries for proper pairs: (156, 1003)\n",
            "[M::mem_pestat] skip orientation RF as there are not enough pairs\n",
            "[M::mem_pestat] skip orientation RR as there are not enough pairs\n",
            "[M::mem_process_seqs] Processed 33224 reads in 6.538 CPU sec, 6.543 real sec\n",
            "[M::mem_pestat] # candidate unique pairs for (FF, FR, RF, RR): (0, 8460, 0, 0)\n",
            "[M::mem_pestat] skip orientation FF as there are not enough pairs\n",
            "[M::mem_pestat] analyzing insert size distribution for orientation FR...\n",
            "[M::mem_pestat] (25, 50, 75) percentile: (520, 581, 642)\n",
            "[M::mem_pestat] low and high boundaries for computing mean and std.dev: (276, 886)\n",
            "[M::mem_pestat] mean and std.dev: (578.38, 99.78)\n",
            "[M::mem_pestat] low and high boundaries for proper pairs: (154, 1008)\n",
            "[M::mem_pestat] skip orientation RF as there are not enough pairs\n",
            "[M::mem_pestat] skip orientation RR as there are not enough pairs\n",
            "[M::mem_process_seqs] Processed 23994 reads in 5.228 CPU sec, 5.342 real sec\n",
            "[main] Version: 0.7.17-r1188\n",
            "[main] CMD: bwa mem Escherichia_coli_str_k_12_substr_mg1655.ASM584v2.dna.toplevel.fa SRR1770413_1.fastq SRR1770413_2.fastq\n",
            "[main] Real time: 243.911 sec; CPU: 242.106 sec\n"
          ]
        }
      ]
    },
    {
      "cell_type": "code",
      "source": [
        "!sudo apt-get install samtools"
      ],
      "metadata": {
        "colab": {
          "base_uri": "https://localhost:8080/"
        },
        "id": "f7-RYB8bNNqi",
        "outputId": "05a97bb5-8a28-42f6-855f-7a742b97e17b"
      },
      "execution_count": null,
      "outputs": [
        {
          "output_type": "stream",
          "name": "stdout",
          "text": [
            "Reading package lists... Done\n",
            "Building dependency tree... Done\n",
            "Reading state information... Done\n",
            "The following additional packages will be installed:\n",
            "  libhts3 libhtscodecs2\n",
            "Suggested packages:\n",
            "  cwltool\n",
            "The following NEW packages will be installed:\n",
            "  libhts3 libhtscodecs2 samtools\n",
            "0 upgraded, 3 newly installed, 0 to remove and 49 not upgraded.\n",
            "Need to get 963 kB of archives.\n",
            "After this operation, 2,270 kB of additional disk space will be used.\n",
            "Get:1 http://archive.ubuntu.com/ubuntu jammy/universe amd64 libhtscodecs2 amd64 1.1.1-3 [53.2 kB]\n",
            "Get:2 http://archive.ubuntu.com/ubuntu jammy/universe amd64 libhts3 amd64 1.13+ds-2build1 [390 kB]\n",
            "Get:3 http://archive.ubuntu.com/ubuntu jammy/universe amd64 samtools amd64 1.13-4 [520 kB]\n",
            "Fetched 963 kB in 1s (1,457 kB/s)\n",
            "debconf: unable to initialize frontend: Dialog\n",
            "debconf: (No usable dialog-like program is installed, so the dialog based frontend cannot be used. at /usr/share/perl5/Debconf/FrontEnd/Dialog.pm line 78, <> line 3.)\n",
            "debconf: falling back to frontend: Readline\n",
            "debconf: unable to initialize frontend: Readline\n",
            "debconf: (This frontend requires a controlling tty.)\n",
            "debconf: falling back to frontend: Teletype\n",
            "dpkg-preconfigure: unable to re-open stdin: \n",
            "Selecting previously unselected package libhtscodecs2:amd64.\n",
            "(Reading database ... 123612 files and directories currently installed.)\n",
            "Preparing to unpack .../libhtscodecs2_1.1.1-3_amd64.deb ...\n",
            "Unpacking libhtscodecs2:amd64 (1.1.1-3) ...\n",
            "Selecting previously unselected package libhts3:amd64.\n",
            "Preparing to unpack .../libhts3_1.13+ds-2build1_amd64.deb ...\n",
            "Unpacking libhts3:amd64 (1.13+ds-2build1) ...\n",
            "Selecting previously unselected package samtools.\n",
            "Preparing to unpack .../samtools_1.13-4_amd64.deb ...\n",
            "Unpacking samtools (1.13-4) ...\n",
            "Setting up libhtscodecs2:amd64 (1.1.1-3) ...\n",
            "Setting up libhts3:amd64 (1.13+ds-2build1) ...\n",
            "Setting up samtools (1.13-4) ...\n",
            "Processing triggers for man-db (2.10.2-1) ...\n",
            "Processing triggers for libc-bin (2.35-0ubuntu3.4) ...\n",
            "/sbin/ldconfig.real: /usr/local/lib/libur_adapter_opencl.so.0 is not a symbolic link\n",
            "\n",
            "/sbin/ldconfig.real: /usr/local/lib/libtbbbind.so.3 is not a symbolic link\n",
            "\n",
            "/sbin/ldconfig.real: /usr/local/lib/libtbbmalloc.so.2 is not a symbolic link\n",
            "\n",
            "/sbin/ldconfig.real: /usr/local/lib/libur_loader.so.0 is not a symbolic link\n",
            "\n",
            "/sbin/ldconfig.real: /usr/local/lib/libtbbmalloc_proxy.so.2 is not a symbolic link\n",
            "\n",
            "/sbin/ldconfig.real: /usr/local/lib/libur_adapter_level_zero.so.0 is not a symbolic link\n",
            "\n",
            "/sbin/ldconfig.real: /usr/local/lib/libtbbbind_2_5.so.3 is not a symbolic link\n",
            "\n",
            "/sbin/ldconfig.real: /usr/local/lib/libtbbbind_2_0.so.3 is not a symbolic link\n",
            "\n",
            "/sbin/ldconfig.real: /usr/local/lib/libtbb.so.12 is not a symbolic link\n",
            "\n"
          ]
        }
      ]
    },
    {
      "cell_type": "code",
      "source": [
        "# Convert SAM to BAM\n",
        "!samtools view -bS aligned_reads.sam > aligned_reads.bam\n",
        "\n",
        "# Sort the BAM file\n",
        "!samtools sort aligned_reads.bam -o aligned_reads_sorted.bam\n",
        "\n",
        "# Index the BAM file\n",
        "!samtools index aligned_reads_sorted.bam"
      ],
      "metadata": {
        "id": "knGTsbCDNRVl"
      },
      "execution_count": 16,
      "outputs": []
    },
    {
      "cell_type": "markdown",
      "source": [
        "Now you have a smaller, manageable BAM file (`aligned_reads_sorted.bam`) to work with for your error detection project."
      ],
      "metadata": {
        "id": "YSvF5zhGKljm"
      }
    },
    {
      "cell_type": "markdown",
      "source": [
        "## 2. Prerequisites\n",
        "Ensure you have:\n",
        "- Python 3.7 or later\n",
        "- Basic understanding of DNA sequencing concepts\n",
        "- Familiarity with Python programming"
      ],
      "metadata": {
        "id": "wHr4UEZrKq6E"
      }
    },
    {
      "cell_type": "markdown",
      "source": [
        "## 3. Installation and Setup\n",
        "Install required libraries:\n"
      ],
      "metadata": {
        "id": "0c6LPFbRKvut"
      }
    },
    {
      "cell_type": "code",
      "source": [
        "!pip install pysam numpy matplotlib seaborn"
      ],
      "metadata": {
        "colab": {
          "base_uri": "https://localhost:8080/"
        },
        "id": "TEkBKKVsKzSC",
        "outputId": "2d6e857b-7437-4216-928e-34360c03a5f9"
      },
      "execution_count": null,
      "outputs": [
        {
          "output_type": "stream",
          "name": "stdout",
          "text": [
            "Collecting pysam\n",
            "  Downloading pysam-0.22.1-cp310-cp310-manylinux_2_28_x86_64.whl.metadata (1.5 kB)\n",
            "Requirement already satisfied: numpy in /usr/local/lib/python3.10/dist-packages (1.26.4)\n",
            "Requirement already satisfied: matplotlib in /usr/local/lib/python3.10/dist-packages (3.7.1)\n",
            "Requirement already satisfied: seaborn in /usr/local/lib/python3.10/dist-packages (0.13.1)\n",
            "Requirement already satisfied: contourpy>=1.0.1 in /usr/local/lib/python3.10/dist-packages (from matplotlib) (1.2.1)\n",
            "Requirement already satisfied: cycler>=0.10 in /usr/local/lib/python3.10/dist-packages (from matplotlib) (0.12.1)\n",
            "Requirement already satisfied: fonttools>=4.22.0 in /usr/local/lib/python3.10/dist-packages (from matplotlib) (4.53.1)\n",
            "Requirement already satisfied: kiwisolver>=1.0.1 in /usr/local/lib/python3.10/dist-packages (from matplotlib) (1.4.5)\n",
            "Requirement already satisfied: packaging>=20.0 in /usr/local/lib/python3.10/dist-packages (from matplotlib) (24.1)\n",
            "Requirement already satisfied: pillow>=6.2.0 in /usr/local/lib/python3.10/dist-packages (from matplotlib) (9.4.0)\n",
            "Requirement already satisfied: pyparsing>=2.3.1 in /usr/local/lib/python3.10/dist-packages (from matplotlib) (3.1.4)\n",
            "Requirement already satisfied: python-dateutil>=2.7 in /usr/local/lib/python3.10/dist-packages (from matplotlib) (2.8.2)\n",
            "Requirement already satisfied: pandas>=1.2 in /usr/local/lib/python3.10/dist-packages (from seaborn) (2.1.4)\n",
            "Requirement already satisfied: pytz>=2020.1 in /usr/local/lib/python3.10/dist-packages (from pandas>=1.2->seaborn) (2024.1)\n",
            "Requirement already satisfied: tzdata>=2022.1 in /usr/local/lib/python3.10/dist-packages (from pandas>=1.2->seaborn) (2024.1)\n",
            "Requirement already satisfied: six>=1.5 in /usr/local/lib/python3.10/dist-packages (from python-dateutil>=2.7->matplotlib) (1.16.0)\n",
            "Downloading pysam-0.22.1-cp310-cp310-manylinux_2_28_x86_64.whl (22.0 MB)\n",
            "\u001b[2K   \u001b[90m━━━━━━━━━━━━━━━━━━━━━━━━━━━━━━━━━━━━━━━━\u001b[0m \u001b[32m22.0/22.0 MB\u001b[0m \u001b[31m92.0 MB/s\u001b[0m eta \u001b[36m0:00:00\u001b[0m\n",
            "\u001b[?25hInstalling collected packages: pysam\n",
            "Successfully installed pysam-0.22.1\n"
          ]
        }
      ]
    },
    {
      "cell_type": "markdown",
      "source": [
        "## 4. Reading BAM Files with Pysam\n",
        "Let's start by reading our BAM file:\n"
      ],
      "metadata": {
        "id": "67aZdntSK4Uo"
      }
    },
    {
      "cell_type": "code",
      "source": [
        "import pysam\n",
        "\n",
        "def read_bam_file(bam_path):\n",
        "    try:\n",
        "        bam_file = pysam.AlignmentFile(bam_path, \"rb\")\n",
        "        print(f\"Successfully opened BAM file: {bam_path}\")\n",
        "        print(f\"Number of mapped reads: {bam_file.mapped}\")\n",
        "        print(f\"Number of unmapped reads: {bam_file.unmapped}\")\n",
        "        return bam_file\n",
        "    except Exception as e:\n",
        "        print(f\"Error opening BAM file: {e}\")\n",
        "        return None\n",
        "\n",
        "# Usage\n",
        "bam_path = \"aligned_reads_sorted.bam\"\n",
        "bam_file = read_bam_file(bam_path)\n",
        "\n",
        "if bam_file:\n",
        "    # Iterate through the first 5 alignments\n",
        "    for i, read in enumerate(bam_file.fetch()):\n",
        "        if i >= 5:\n",
        "            break\n",
        "        print(f\"Read {i+1}: {read.query_name}, Position: {read.reference_start}, CIGAR: {read.cigarstring}\")\n",
        "\n",
        "    bam_file.close()"
      ],
      "metadata": {
        "id": "-g8OzcrnK67-",
        "outputId": "b23639d3-dc59-4c12-c82d-988bcfd83ec2",
        "colab": {
          "base_uri": "https://localhost:8080/"
        }
      },
      "execution_count": 17,
      "outputs": [
        {
          "output_type": "stream",
          "name": "stdout",
          "text": [
            "Successfully opened BAM file: aligned_reads_sorted.bam\n",
            "Number of mapped reads: 922848\n",
            "Number of unmapped reads: 365046\n",
            "Read 1: SRR1770413.4997, Position: 0, CIGAR: 167H134M\n",
            "Read 2: SRR1770413.21706, Position: 0, CIGAR: 30S271M\n",
            "Read 3: SRR1770413.36635, Position: 0, CIGAR: 183H118M\n",
            "Read 4: SRR1770413.38633, Position: 0, CIGAR: 37S264M\n",
            "Read 5: SRR1770413.50710, Position: 0, CIGAR: 301M\n"
          ]
        }
      ]
    },
    {
      "cell_type": "markdown",
      "source": [
        "## 5. Error Detection Algorithms\n",
        "Let's implement some error detection algorithms using our E. coli dataset:\n",
        "\n",
        "\n"
      ],
      "metadata": {
        "id": "oBDx9bbjPCWA"
      }
    },
    {
      "cell_type": "code",
      "source": [
        "import pysam\n",
        "import numpy as np\n",
        "\n",
        "def detect_mismatches(bam_file, reference_genome, chromosome, start, end):\n",
        "    mismatches = []\n",
        "    for pileup_column in bam_file.pileup(chromosome, start, end):\n",
        "        ref_base = reference_genome.fetch(chromosome, pileup_column.reference_pos, pileup_column.reference_pos + 1).upper()\n",
        "        for pileup_read in pileup_column.pileups:\n",
        "            if not pileup_read.is_del and not pileup_read.is_refskip:\n",
        "                read_base = pileup_read.alignment.query_sequence[pileup_read.query_position].upper()\n",
        "                if read_base != ref_base:\n",
        "                    mismatches.append((pileup_column.reference_pos, ref_base, read_base))\n",
        "    return mismatches\n",
        "\n",
        "def detect_indels(bam_file, chromosome, start, end):\n",
        "    indels = []\n",
        "    for pileup_column in bam_file.pileup(chromosome, start, end):\n",
        "        for pileup_read in pileup_column.pileups:\n",
        "            if pileup_read.indel != 0:\n",
        "                indels.append((pileup_column.reference_pos, pileup_read.indel))\n",
        "    return indels"
      ],
      "metadata": {
        "id": "qAKhmOnuUclA"
      },
      "execution_count": 18,
      "outputs": []
    },
    {
      "cell_type": "code",
      "source": [
        "bam_path = \"aligned_reads_sorted.bam\"\n",
        "reference_path = \"Escherichia_coli_str_k_12_substr_mg1655.ASM584v2.dna.toplevel.fa\"\n",
        "\n",
        "bam_file = pysam.AlignmentFile(bam_path, \"rb\")\n",
        "reference_genome = pysam.FastaFile(reference_path)\n",
        "\n",
        "# For E. coli, we'll use the entire genome as it's much smaller\n",
        "chromosome = \"Chromosome\"  # This may vary depending on how the E. coli genome is labeled in your reference\n",
        "start = 0\n",
        "end = reference_genome.get_reference_length(chromosome)\n",
        "\n",
        "mismatches = detect_mismatches(bam_file, reference_genome, chromosome, start, end)\n",
        "indels = detect_indels(bam_file, chromosome, start, end)\n",
        "\n",
        "print(f\"Found {len(mismatches)} mismatches and {len(indels)} indels.\")\n",
        "\n",
        "bam_file.close()\n",
        "reference_genome.close()"
      ],
      "metadata": {
        "colab": {
          "base_uri": "https://localhost:8080/"
        },
        "id": "IAt0uEqOUgBt",
        "outputId": "40d674df-c2b7-40d2-c7c6-23fa2fdd68ea"
      },
      "execution_count": 19,
      "outputs": [
        {
          "output_type": "stream",
          "name": "stdout",
          "text": [
            "Found 195039 mismatches and 4523 indels.\n"
          ]
        }
      ]
    },
    {
      "cell_type": "markdown",
      "source": [
        "## 6. Analyzing Error Patterns\n",
        "Now, let's analyze the error patterns we've detected:\n"
      ],
      "metadata": {
        "id": "s6CesFJJsaSv"
      }
    },
    {
      "cell_type": "code",
      "source": [
        "import matplotlib.pyplot as plt\n",
        "import seaborn as sns\n",
        "\n",
        "def analyze_mismatch_types(mismatches):\n",
        "    mismatch_types = {}\n",
        "    for _, ref_base, read_base in mismatches:\n",
        "        mismatch_type = f\"{ref_base}>{read_base}\"\n",
        "        mismatch_types[mismatch_type] = mismatch_types.get(mismatch_type, 0) + 1\n",
        "    return mismatch_types\n",
        "\n",
        "def analyze_indel_sizes(indels):\n",
        "    indel_sizes = [indel[1] for indel in indels]\n",
        "    return indel_sizes\n",
        "\n",
        "# Analyze mismatch types\n",
        "mismatch_types = analyze_mismatch_types(mismatches)\n",
        "\n",
        "# Plot mismatch types\n",
        "plt.figure(figsize=(12, 6))\n",
        "sns.barplot(x=list(mismatch_types.keys()), y=list(mismatch_types.values()))\n",
        "plt.title(\"Mismatch Types in E. coli Genome\")\n",
        "plt.xlabel(\"Mismatch Type\")\n",
        "plt.ylabel(\"Count\")\n",
        "plt.xticks(rotation=45)\n",
        "plt.tight_layout()\n",
        "plt.savefig(\"ecoli_mismatch_types.png\")\n",
        "plt.close()\n",
        "\n",
        "# Analyze indel sizes\n",
        "indel_sizes = analyze_indel_sizes(indels)\n",
        "\n",
        "# Plot indel size distribution\n",
        "plt.figure(figsize=(12, 6))\n",
        "sns.histplot(indel_sizes, bins=20, kde=True)\n",
        "plt.title(\"Indel Size Distribution in E. coli Genome\")\n",
        "plt.xlabel(\"Indel Size\")\n",
        "plt.ylabel(\"Count\")\n",
        "plt.savefig(\"ecoli_indel_sizes.png\")\n",
        "plt.close()\n",
        "\n",
        "print(\"Analysis complete. Check the generated PNG files for visualizations.\")"
      ],
      "metadata": {
        "colab": {
          "base_uri": "https://localhost:8080/"
        },
        "id": "7TwZy5VpZOnV",
        "outputId": "3d855c1a-eeeb-4a74-ee17-c9f043cbe4db"
      },
      "execution_count": 20,
      "outputs": [
        {
          "output_type": "stream",
          "name": "stdout",
          "text": [
            "Analysis complete. Check the generated PNG files for visualizations.\n"
          ]
        }
      ]
    },
    {
      "cell_type": "markdown",
      "source": [
        "## 7. Implementing Quality Control Measures\n",
        "Let's implement some quality control measures to filter out low-quality reads:\n"
      ],
      "metadata": {
        "id": "DSkbuwZJsWp5"
      }
    },
    {
      "cell_type": "code",
      "source": [
        "def filter_low_quality_reads(bam_file, min_mapping_quality=20, min_base_quality=20):\n",
        "    filtered_reads = 0\n",
        "    total_reads = 0\n",
        "\n",
        "    for read in bam_file.fetch():\n",
        "        total_reads += 1\n",
        "        if read.mapping_quality >= min_mapping_quality and \\\n",
        "           np.mean([ord(q) - 33 for q in read.qual]) >= min_base_quality:\n",
        "            yield read\n",
        "        else:\n",
        "            filtered_reads += 1\n",
        "\n",
        "    print(f\"Filtered {filtered_reads} out of {total_reads} reads.\")\n",
        "\n",
        "# Usage\n",
        "bam_file = pysam.AlignmentFile(bam_path, \"rb\")\n",
        "filtered_bam_path = \"filtered_aligned_reads.bam\"\n",
        "\n",
        "with pysam.AlignmentFile(filtered_bam_path, \"wb\", template=bam_file) as filtered_bam:\n",
        "    for read in filter_low_quality_reads(bam_file):\n",
        "        filtered_bam.write(read)\n",
        "\n",
        "bam_file.close()\n",
        "\n",
        "# Index the filtered BAM file\n",
        "pysam.index(filtered_bam_path)\n",
        "\n",
        "print(f\"Created filtered BAM file: {filtered_bam_path}\")"
      ],
      "metadata": {
        "colab": {
          "base_uri": "https://localhost:8080/"
        },
        "id": "6D__qYAMZfNx",
        "outputId": "acfaef40-ef3a-4ef1-ee82-d439602a6658"
      },
      "execution_count": 21,
      "outputs": [
        {
          "output_type": "stream",
          "name": "stdout",
          "text": [
            "Filtered 56287 out of 926112 reads.\n",
            "Created filtered BAM file: filtered_aligned_reads.bam\n"
          ]
        }
      ]
    },
    {
      "cell_type": "markdown",
      "source": [
        "## 8. Comparative Analysis\n",
        "Now, let's compare the error rates before and after quality control:\n"
      ],
      "metadata": {
        "id": "rPjo616vsQxn"
      }
    },
    {
      "cell_type": "code",
      "source": [
        "def calculate_error_rate(bam_path, reference_path, chromosome, start, end):\n",
        "    bam_file = pysam.AlignmentFile(bam_path, \"rb\")\n",
        "    reference_genome = pysam.FastaFile(reference_path)\n",
        "\n",
        "    mismatches = detect_mismatches(bam_file, reference_genome, chromosome, start, end)\n",
        "    indels = detect_indels(bam_file, chromosome, start, end)\n",
        "\n",
        "    total_bases = sum(read.query_length for read in bam_file.fetch(chromosome, start, end))\n",
        "    error_rate = (len(mismatches) + len(indels)) / total_bases\n",
        "\n",
        "    bam_file.close()\n",
        "    reference_genome.close()\n",
        "\n",
        "    return error_rate\n",
        "\n",
        "# Calculate error rates\n",
        "original_error_rate = calculate_error_rate(bam_path, reference_path, chromosome, start, end)\n",
        "filtered_error_rate = calculate_error_rate(filtered_bam_path, reference_path, chromosome, start, end)\n",
        "\n",
        "print(f\"Original error rate: {original_error_rate:.6f}\")\n",
        "print(f\"Filtered error rate: {filtered_error_rate:.6f}\")\n",
        "\n",
        "# Visualize the comparison\n",
        "labels = ['Original', 'Filtered']\n",
        "error_rates = [original_error_rate, filtered_error_rate]\n",
        "\n",
        "plt.figure(figsize=(8, 6))\n",
        "sns.barplot(x=labels, y=error_rates)\n",
        "plt.title(\"Error Rate Comparison in E. coli Genome\")\n",
        "plt.ylabel(\"Error Rate\")\n",
        "plt.savefig(\"ecoli_error_rate_comparison.png\")\n",
        "plt.close()\n",
        "\n",
        "print(\"Comparison complete. Check the generated PNG file for visualization.\")"
      ],
      "metadata": {
        "colab": {
          "base_uri": "https://localhost:8080/"
        },
        "id": "oCcrirlYaFA5",
        "outputId": "eecc3c42-303f-4ce9-a1c7-7983825cc5d4"
      },
      "execution_count": 22,
      "outputs": [
        {
          "output_type": "stream",
          "name": "stdout",
          "text": [
            "Original error rate: 0.000717\n",
            "Filtered error rate: 0.000626\n",
            "Comparison complete. Check the generated PNG file for visualization.\n"
          ]
        }
      ]
    }
  ]
}