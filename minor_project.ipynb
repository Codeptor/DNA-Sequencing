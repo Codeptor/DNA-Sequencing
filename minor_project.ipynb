{
  "cells": [
    {
      "cell_type": "markdown",
      "metadata": {
        "colab_type": "text",
        "id": "view-in-github"
      },
      "source": [
        "<a href=\"https://colab.research.google.com/github/Codeptor/DNA-Sequencing/blob/main/minor_project.ipynb\" target=\"_parent\"><img src=\"https://colab.research.google.com/assets/colab-badge.svg\" alt=\"Open In Colab\"/></a>"
      ]
    },
    {
      "cell_type": "markdown",
      "metadata": {
        "id": "9VsDnSUmJpOk"
      },
      "source": [
        "# DNA Sequence Error Detection using Pysam: A Comprehensive Guide\n"
      ]
    },
    {
      "cell_type": "markdown",
      "metadata": {
        "id": "o6q3KKw4JwIK"
      },
      "source": [
        "## 1. Dataset Selection and Preparation\n",
        "For this guide, we'll use a smaller dataset from the Sequence Read Archive (SRA) that's more manageable for research projects with limited computational resources."
      ]
    },
    {
      "cell_type": "markdown",
      "metadata": {
        "id": "1hg2mhTrIBbh"
      },
      "source": [
        "### 1.1 Download a Small Dataset\n",
        "We'll use a dataset from the E. coli genome, which is much smaller in size.\n",
        "\n"
      ]
    },
    {
      "cell_type": "markdown",
      "metadata": {
        "id": "mJ42wwHNIdQE"
      },
      "source": [
        "1. Install the SRA Toolkit:\n"
      ]
    },
    {
      "cell_type": "code",
      "execution_count": null,
      "metadata": {
        "colab": {
          "base_uri": "https://localhost:8080/"
        },
        "id": "JhU18Q8hE-dh",
        "outputId": "c76765c6-b3f8-4bda-9177-6d50f6a96ed2"
      },
      "outputs": [],
      "source": [
        "!wget https://ftp-trace.ncbi.nlm.nih.gov/sra/sdk/current/sratoolkit.current-ubuntu64.tar.gz\n",
        "!tar -xzf sratoolkit.current-ubuntu64.tar.gz\n",
        "!export PATH=$PATH:$PWD/sratoolkit.3.0.0-ubuntu64/bin\n",
        "!sudo apt-get install sra-toolkit"
      ]
    },
    {
      "cell_type": "markdown",
      "metadata": {
        "id": "6GJEeaT7J5vQ"
      },
      "source": [
        "2. Download a small E. coli dataset:\n"
      ]
    },
    {
      "cell_type": "code",
      "execution_count": null,
      "metadata": {
        "colab": {
          "base_uri": "https://localhost:8080/"
        },
        "id": "VsBKanaGFyXk",
        "outputId": "29ea55bd-dc83-44bd-af34-83905facde97"
      },
      "outputs": [],
      "source": [
        "!prefetch SRR1770413\n",
        "!fastq-dump --split-files SRR1770413"
      ]
    },
    {
      "cell_type": "markdown",
      "metadata": {
        "id": "sPukNWKIKOiB"
      },
      "source": [
        "This will give you two FASTQ files: `SRR1770413_1.fastq` and `SRR1770413_2.fastq`.\n",
        "\n"
      ]
    },
    {
      "cell_type": "markdown",
      "metadata": {
        "id": "MrFCjaytKTim"
      },
      "source": [
        "### 1.2 Download the Reference Genome\n",
        "Download the E. coli reference genome:\n"
      ]
    },
    {
      "cell_type": "code",
      "execution_count": null,
      "metadata": {
        "colab": {
          "base_uri": "https://localhost:8080/"
        },
        "id": "hKTd77c8Elz6",
        "outputId": "de8ac13b-1b9f-4b37-a8c1-d65be64914ce"
      },
      "outputs": [],
      "source": [
        "!wget ftp://ftp.ensemblgenomes.org/pub/bacteria/release-45/fasta/bacteria_0_collection/escherichia_coli_str_k_12_substr_mg1655/dna/Escherichia_coli_str_k_12_substr_mg1655.ASM584v2.dna.toplevel.fa.gz\n",
        "!gunzip Escherichia_coli_str_k_12_substr_mg1655.ASM584v2.dna.toplevel.fa.gz"
      ]
    },
    {
      "cell_type": "markdown",
      "metadata": {
        "id": "tcdLQkY5KWe4"
      },
      "source": [
        "### 1.3 Align Reads to Reference\n",
        "Now, let's align the reads to the reference genome using BWA:\n"
      ]
    },
    {
      "cell_type": "code",
      "execution_count": null,
      "metadata": {
        "colab": {
          "base_uri": "https://localhost:8080/"
        },
        "id": "qEdaTzC1HTQi",
        "outputId": "01c288d0-d139-46ff-c2df-030615925818"
      },
      "outputs": [],
      "source": [
        "!sudo apt-get install bwa\n",
        "\n",
        "!bwa index Escherichia_coli_str_k_12_substr_mg1655.ASM584v2.dna.toplevel.fa\n",
        "\n",
        "!bwa mem Escherichia_coli_str_k_12_substr_mg1655.ASM584v2.dna.toplevel.fa SRR1770413_1.fastq SRR1770413_2.fastq > aligned_reads.sam\n"
      ]
    },
    {
      "cell_type": "code",
      "execution_count": null,
      "metadata": {
        "colab": {
          "base_uri": "https://localhost:8080/"
        },
        "id": "f7-RYB8bNNqi",
        "outputId": "05a97bb5-8a28-42f6-855f-7a742b97e17b"
      },
      "outputs": [],
      "source": [
        "!sudo apt-get install samtools"
      ]
    },
    {
      "cell_type": "code",
      "execution_count": null,
      "metadata": {
        "id": "knGTsbCDNRVl"
      },
      "outputs": [],
      "source": [
        "!samtools view -bS aligned_reads.sam > aligned_reads.bam\n",
        "\n",
        "!samtools sort aligned_reads.bam -o aligned_reads_sorted.bam\n",
        "\n",
        "!samtools index aligned_reads_sorted.bam"
      ]
    },
    {
      "cell_type": "markdown",
      "metadata": {
        "id": "YSvF5zhGKljm"
      },
      "source": [
        "Now you have a smaller, manageable BAM file (`aligned_reads_sorted.bam`) to work with for your error detection project."
      ]
    },
    {
      "cell_type": "markdown",
      "metadata": {
        "id": "wHr4UEZrKq6E"
      },
      "source": [
        "## 2. Prerequisites\n",
        "Ensure you have:\n",
        "- Python 3.7 or later\n",
        "- Basic understanding of DNA sequencing concepts\n",
        "- Familiarity with Python programming"
      ]
    },
    {
      "cell_type": "markdown",
      "metadata": {
        "id": "0c6LPFbRKvut"
      },
      "source": [
        "## 3. Installation and Setup\n",
        "Install required libraries:\n"
      ]
    },
    {
      "cell_type": "code",
      "execution_count": null,
      "metadata": {
        "colab": {
          "base_uri": "https://localhost:8080/"
        },
        "id": "TEkBKKVsKzSC",
        "outputId": "2d6e857b-7437-4216-928e-34360c03a5f9"
      },
      "outputs": [],
      "source": [
        "!pip install pysam numpy matplotlib seaborn"
      ]
    },
    {
      "cell_type": "markdown",
      "metadata": {
        "id": "67aZdntSK4Uo"
      },
      "source": [
        "## 4. Reading BAM Files with Pysam\n",
        "Let's start by reading our BAM file:\n"
      ]
    },
    {
      "cell_type": "code",
      "execution_count": null,
      "metadata": {
        "colab": {
          "base_uri": "https://localhost:8080/"
        },
        "id": "-g8OzcrnK67-",
        "outputId": "b23639d3-dc59-4c12-c82d-988bcfd83ec2"
      },
      "outputs": [],
      "source": [
        "import pysam\n",
        "\n",
        "def read_bam_file(bam_path):\n",
        "    try:\n",
        "        bam_file = pysam.AlignmentFile(bam_path, \"rb\")\n",
        "        print(f\"Successfully opened BAM file: {bam_path}\")\n",
        "        print(f\"Number of mapped reads: {bam_file.mapped}\")\n",
        "        print(f\"Number of unmapped reads: {bam_file.unmapped}\")\n",
        "        return bam_file\n",
        "    except Exception as e:\n",
        "        print(f\"Error opening BAM file: {e}\")\n",
        "        return None\n",
        "\n",
        "bam_path = \"aligned_reads_sorted.bam\"\n",
        "bam_file = read_bam_file(bam_path)\n",
        "\n",
        "if bam_file:\n",
        "    for i, read in enumerate(bam_file.fetch()):\n",
        "        if i >= 5:\n",
        "            break\n",
        "        print(f\"Read {i+1}: {read.query_name}, Position: {read.reference_start}, CIGAR: {read.cigarstring}\")\n",
        "\n",
        "    bam_file.close()"
      ]
    },
    {
      "cell_type": "markdown",
      "metadata": {
        "id": "oBDx9bbjPCWA"
      },
      "source": [
        "## 5. Error Detection Algorithms\n",
        "Let's implement some error detection algorithms using our E. coli dataset:\n",
        "\n",
        "\n"
      ]
    },
    {
      "cell_type": "code",
      "execution_count": null,
      "metadata": {
        "id": "qAKhmOnuUclA"
      },
      "outputs": [],
      "source": [
        "import pysam\n",
        "import numpy as np\n",
        "\n",
        "def detect_mismatches(bam_file, reference_genome, chromosome, start, end):\n",
        "    mismatches = []\n",
        "    for pileup_column in bam_file.pileup(chromosome, start, end):\n",
        "        ref_base = reference_genome.fetch(chromosome, pileup_column.reference_pos, pileup_column.reference_pos + 1).upper()\n",
        "        for pileup_read in pileup_column.pileups:\n",
        "            if not pileup_read.is_del and not pileup_read.is_refskip:\n",
        "                read_base = pileup_read.alignment.query_sequence[pileup_read.query_position].upper()\n",
        "                if read_base != ref_base:\n",
        "                    mismatches.append((pileup_column.reference_pos, ref_base, read_base))\n",
        "    return mismatches\n",
        "\n",
        "def detect_indels(bam_file, chromosome, start, end):\n",
        "    indels = []\n",
        "    for pileup_column in bam_file.pileup(chromosome, start, end):\n",
        "        for pileup_read in pileup_column.pileups:\n",
        "            if pileup_read.indel != 0:\n",
        "                indels.append((pileup_column.reference_pos, pileup_read.indel))\n",
        "    return indels"
      ]
    },
    {
      "cell_type": "code",
      "execution_count": null,
      "metadata": {
        "colab": {
          "base_uri": "https://localhost:8080/"
        },
        "id": "IAt0uEqOUgBt",
        "outputId": "40d674df-c2b7-40d2-c7c6-23fa2fdd68ea"
      },
      "outputs": [],
      "source": [
        "bam_path = \"aligned_reads_sorted.bam\"\n",
        "reference_path = \"Escherichia_coli_str_k_12_substr_mg1655.ASM584v2.dna.toplevel.fa\"\n",
        "\n",
        "bam_file = pysam.AlignmentFile(bam_path, \"rb\")\n",
        "reference_genome = pysam.FastaFile(reference_path)\n",
        "\n",
        "chromosome = \"Chromosome\"  \n",
        "start = 0\n",
        "end = reference_genome.get_reference_length(chromosome)\n",
        "\n",
        "mismatches = detect_mismatches(bam_file, reference_genome, chromosome, start, end)\n",
        "indels = detect_indels(bam_file, chromosome, start, end)\n",
        "\n",
        "print(f\"Found {len(mismatches)} mismatches and {len(indels)} indels.\")\n",
        "\n",
        "bam_file.close()\n",
        "reference_genome.close()"
      ]
    },
    {
      "cell_type": "markdown",
      "metadata": {
        "id": "s6CesFJJsaSv"
      },
      "source": [
        "## 6. Analyzing Error Patterns\n",
        "Now, let's analyze the error patterns we've detected:\n"
      ]
    },
    {
      "cell_type": "code",
      "execution_count": null,
      "metadata": {
        "colab": {
          "base_uri": "https://localhost:8080/"
        },
        "id": "7TwZy5VpZOnV",
        "outputId": "3d855c1a-eeeb-4a74-ee17-c9f043cbe4db"
      },
      "outputs": [],
      "source": [
        "import matplotlib.pyplot as plt\n",
        "import seaborn as sns\n",
        "\n",
        "def analyze_mismatch_types(mismatches):\n",
        "    mismatch_types = {}\n",
        "    for _, ref_base, read_base in mismatches:\n",
        "        mismatch_type = f\"{ref_base}>{read_base}\"\n",
        "        mismatch_types[mismatch_type] = mismatch_types.get(mismatch_type, 0) + 1\n",
        "    return mismatch_types\n",
        "\n",
        "def analyze_indel_sizes(indels):\n",
        "    indel_sizes = [indel[1] for indel in indels]\n",
        "    return indel_sizes\n",
        "\n",
        "mismatch_types = analyze_mismatch_types(mismatches)\n",
        "\n",
        "plt.figure(figsize=(12, 6))\n",
        "sns.barplot(x=list(mismatch_types.keys()), y=list(mismatch_types.values()))\n",
        "plt.title(\"Mismatch Types in E. coli Genome\")\n",
        "plt.xlabel(\"Mismatch Type\")\n",
        "plt.ylabel(\"Count\")\n",
        "plt.xticks(rotation=45)\n",
        "plt.tight_layout()\n",
        "plt.savefig(\"ecoli_mismatch_types.png\")\n",
        "plt.close()\n",
        "\n",
        "indel_sizes = analyze_indel_sizes(indels)\n",
        "\n",
        "plt.figure(figsize=(12, 6))\n",
        "sns.histplot(indel_sizes, bins=20, kde=True)\n",
        "plt.title(\"Indel Size Distribution in E. coli Genome\")\n",
        "plt.xlabel(\"Indel Size\")\n",
        "plt.ylabel(\"Count\")\n",
        "plt.savefig(\"ecoli_indel_sizes.png\")\n",
        "plt.close()\n",
        "\n",
        "print(\"Analysis complete. Check the generated PNG files for visualizations.\")"
      ]
    },
    {
      "cell_type": "markdown",
      "metadata": {
        "id": "DSkbuwZJsWp5"
      },
      "source": [
        "## 7. Implementing Quality Control Measures\n",
        "Let's implement some quality control measures to filter out low-quality reads:\n"
      ]
    },
    {
      "cell_type": "code",
      "execution_count": null,
      "metadata": {
        "colab": {
          "base_uri": "https://localhost:8080/"
        },
        "id": "6D__qYAMZfNx",
        "outputId": "acfaef40-ef3a-4ef1-ee82-d439602a6658"
      },
      "outputs": [],
      "source": [
        "def filter_low_quality_reads(bam_file, min_mapping_quality=20, min_base_quality=20):\n",
        "    filtered_reads = 0\n",
        "    total_reads = 0\n",
        "\n",
        "    for read in bam_file.fetch():\n",
        "        total_reads += 1\n",
        "        if read.mapping_quality >= min_mapping_quality and \\\n",
        "           np.mean([ord(q) - 33 for q in read.qual]) >= min_base_quality:\n",
        "            yield read\n",
        "        else:\n",
        "            filtered_reads += 1\n",
        "\n",
        "    print(f\"Filtered {filtered_reads} out of {total_reads} reads.\")\n",
        "\n",
        "bam_file = pysam.AlignmentFile(bam_path, \"rb\")\n",
        "filtered_bam_path = \"filtered_aligned_reads.bam\"\n",
        "\n",
        "with pysam.AlignmentFile(filtered_bam_path, \"wb\", template=bam_file) as filtered_bam:\n",
        "    for read in filter_low_quality_reads(bam_file):\n",
        "        filtered_bam.write(read)\n",
        "\n",
        "bam_file.close()\n",
        "\n",
        "pysam.index(filtered_bam_path)\n",
        "\n",
        "print(f\"Created filtered BAM file: {filtered_bam_path}\")"
      ]
    },
    {
      "cell_type": "markdown",
      "metadata": {
        "id": "rPjo616vsQxn"
      },
      "source": [
        "## 8. Comparative Analysis\n",
        "Now, let's compare the error rates before and after quality control:\n"
      ]
    },
    {
      "cell_type": "code",
      "execution_count": null,
      "metadata": {
        "colab": {
          "base_uri": "https://localhost:8080/"
        },
        "id": "oCcrirlYaFA5",
        "outputId": "eecc3c42-303f-4ce9-a1c7-7983825cc5d4"
      },
      "outputs": [],
      "source": [
        "def calculate_error_rate(bam_path, reference_path, chromosome, start, end):\n",
        "    bam_file = pysam.AlignmentFile(bam_path, \"rb\")\n",
        "    reference_genome = pysam.FastaFile(reference_path)\n",
        "\n",
        "    mismatches = detect_mismatches(bam_file, reference_genome, chromosome, start, end)\n",
        "    indels = detect_indels(bam_file, chromosome, start, end)\n",
        "\n",
        "    total_bases = sum(read.query_length for read in bam_file.fetch(chromosome, start, end))\n",
        "    error_rate = (len(mismatches) + len(indels)) / total_bases\n",
        "\n",
        "    bam_file.close()\n",
        "    reference_genome.close()\n",
        "\n",
        "    return error_rate\n",
        "\n",
        "original_error_rate = calculate_error_rate(bam_path, reference_path, chromosome, start, end)\n",
        "filtered_error_rate = calculate_error_rate(filtered_bam_path, reference_path, chromosome, start, end)\n",
        "\n",
        "print(f\"Original error rate: {original_error_rate:.6f}\")\n",
        "print(f\"Filtered error rate: {filtered_error_rate:.6f}\")\n",
        "\n",
        "labels = ['Original', 'Filtered']\n",
        "error_rates = [original_error_rate, filtered_error_rate]\n",
        "\n",
        "plt.figure(figsize=(8, 6))\n",
        "sns.barplot(x=labels, y=error_rates)\n",
        "plt.title(\"Error Rate Comparison in E. coli Genome\")\n",
        "plt.ylabel(\"Error Rate\")\n",
        "plt.savefig(\"ecoli_error_rate_comparison.png\")\n",
        "plt.close()\n",
        "\n",
        "print(\"Comparison complete. Check the generated PNG file for visualization.\")"
      ]
    }
  ],
  "metadata": {
    "accelerator": "GPU",
    "colab": {
      "authorship_tag": "ABX9TyMPrE8dxuAje2xW3ifjlNu2",
      "gpuType": "T4",
      "include_colab_link": true,
      "provenance": []
    },
    "kernelspec": {
      "display_name": "Python 3",
      "name": "python3"
    },
    "language_info": {
      "name": "python",
      "version": "3.11.5"
    }
  },
  "nbformat": 4,
  "nbformat_minor": 0
}
